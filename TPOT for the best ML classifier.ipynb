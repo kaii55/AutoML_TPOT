{
 "cells": [
  {
   "cell_type": "code",
   "execution_count": 1,
   "metadata": {},
   "outputs": [
    {
     "name": "stderr",
     "output_type": "stream",
     "text": [
      "Using TensorFlow backend.\n",
      "/Users/aritramajumdar/anaconda3/lib/python3.7/site-packages/sklearn/utils/validation.py:724: DataConversionWarning: A column-vector y was passed when a 1d array was expected. Please change the shape of y to (n_samples, ), for example using ravel().\n",
      "  y = column_or_1d(y, warn=True)\n"
     ]
    },
    {
     "data": {
      "text/plain": [
       "'\\nfrom sklearn.decomposition import PCA\\npca = PCA()\\nX_train = pca.fit_transform(X_train)\\n\\n'"
      ]
     },
     "execution_count": 1,
     "metadata": {},
     "output_type": "execute_result"
    }
   ],
   "source": [
    "##Importing basic libraries\n",
    "import pandas as pd\n",
    "import numpy as np\n",
    "import matplotlib.pyplot as plt\n",
    "\n",
    "#Importing classifiers\n",
    "from sklearn.linear_model import LogisticRegression\n",
    "from sklearn.tree import DecisionTreeClassifier\n",
    "from sklearn.ensemble import RandomForestClassifier\n",
    "\n",
    "\n",
    "\n",
    "\n",
    "#Importing libraries for model evaluation \n",
    "from sklearn.metrics import f1_score\n",
    "from sklearn.metrics import confusion_matrix\n",
    "from sklearn.metrics import classification_report\n",
    "\n",
    "\n",
    "#Importing other libraries\n",
    "from sklearn.preprocessing import StandardScaler\n",
    "from sklearn.preprocessing import LabelEncoder\n",
    "from sklearn.preprocessing import OneHotEncoder\n",
    "from sklearn.compose import ColumnTransformer\n",
    "from sklearn.pipeline import Pipeline\n",
    "from sklearn.model_selection import train_test_split\n",
    "from imblearn.over_sampling import SMOTE\n",
    "import os\n",
    "os.environ['KMP_DUPLICATE_LIB_OK']='True'\n",
    "from tpot import TPOTClassifier\n",
    "\n",
    "\n",
    "\n",
    "#Reading the data\n",
    "df = pd.read_csv('data.csv')\n",
    "list = ['Unnamed: 32','id']\n",
    "df.drop(list,axis = 1, inplace = True)\n",
    "\n",
    "#Encoding categorical data values\n",
    "labelencoder = LabelEncoder()\n",
    "df['diagnosis'] = labelencoder.fit_transform(df['diagnosis'])\n",
    "\n",
    "\n",
    "ss = StandardScaler()\n",
    "\n",
    "\n",
    "df_1 = pd.DataFrame(df['diagnosis'])\n",
    "df.drop(['diagnosis'], axis =1, inplace = True)\n",
    "df_2 = pd.DataFrame(df[['radius_mean', 'texture_mean', 'perimeter_mean', \n",
    "                        'smoothness_mean', 'area_mean', 'concavity_mean', 'compactness_mean', \n",
    "                        'texture_se', 'area_se', 'fractal_dimension_mean']])\n",
    "\n",
    "\n",
    "\n",
    "X = df_2\n",
    "Y = df_1.values\n",
    "\n",
    "#Train test split\n",
    "from sklearn.model_selection import train_test_split\n",
    "X_train, X_test, Y_train, Y_test = train_test_split(X, Y, test_size = 0.20, \n",
    "                                                    stratify = Y)\n",
    "\n",
    "\n",
    "\n",
    "#Scaling and transforming the training data\n",
    "ss.fit(X_train[['radius_mean', 'texture_mean', 'perimeter_mean', \n",
    "                        'smoothness_mean', 'area_mean', 'concavity_mean', 'compactness_mean', \n",
    "                        'texture_se', 'area_se', 'fractal_dimension_mean']])\n",
    "\n",
    "X_train = ss.transform(X_train[['radius_mean', 'texture_mean', 'perimeter_mean', \n",
    "                        'smoothness_mean', 'area_mean', 'concavity_mean', 'compactness_mean', \n",
    "                        'texture_se', 'area_se', 'fractal_dimension_mean']])\n",
    "\n",
    "\n",
    "#Transforming the data\n",
    "X_test = ss.transform(X_test[['radius_mean', 'texture_mean', 'perimeter_mean', \n",
    "                        'smoothness_mean', 'area_mean', 'concavity_mean', 'compactness_mean', \n",
    "                        'texture_se', 'area_se', 'fractal_dimension_mean']])\n",
    "\n",
    "\n",
    "\n",
    "\n",
    "#Sampling the data\n",
    "\n",
    "sm = SMOTE(random_state=42, kind = 'borderline1')\n",
    "X_resampled, Y_resampled = sm.fit_resample(X_train, Y_train)\n",
    "\n",
    "\n",
    "\n",
    "\n",
    "#If needed can be performed\n",
    "\n",
    "\"\"\"\n",
    "from sklearn.decomposition import PCA\n",
    "pca = PCA()\n",
    "X_train = pca.fit_transform(X_train)\n",
    "\n",
    "\"\"\""
   ]
  },
  {
   "cell_type": "code",
   "execution_count": 2,
   "metadata": {},
   "outputs": [
    {
     "data": {
      "application/vnd.jupyter.widget-view+json": {
       "model_id": "",
       "version_major": 2,
       "version_minor": 0
      },
      "text/plain": [
       "HBox(children=(IntProgress(value=0, description='Optimization Progress', max=220, style=ProgressStyle(descript…"
      ]
     },
     "metadata": {},
     "output_type": "display_data"
    },
    {
     "name": "stdout",
     "output_type": "stream",
     "text": [
      "Generation 1 - Current best internal CV score: 0.9631578947368421\n",
      "Generation 2 - Current best internal CV score: 0.9701754385964912\n",
      "Generation 3 - Current best internal CV score: 0.9701754385964912\n",
      "Generation 4 - Current best internal CV score: 0.9701754385964912\n",
      "Generation 5 - Current best internal CV score: 0.9719298245614034\n",
      "Generation 6 - Current best internal CV score: 0.9719298245614034\n",
      "Generation 7 - Current best internal CV score: 0.9736842105263157\n",
      "Generation 8 - Current best internal CV score: 0.9736842105263157\n",
      "Generation 9 - Current best internal CV score: 0.9736842105263157\n",
      "Generation 10 - Current best internal CV score: 0.9736842105263157\n",
      "\n",
      "Best pipeline: GradientBoostingClassifier(CombineDFs(input_matrix, input_matrix), learning_rate=0.5, max_depth=9, max_features=0.9000000000000001, min_samples_leaf=15, min_samples_split=17, n_estimators=100, subsample=0.5)\n",
      "0.9122807017543859\n"
     ]
    },
    {
     "name": "stderr",
     "output_type": "stream",
     "text": [
      "/Users/aritramajumdar/anaconda3/lib/python3.7/site-packages/sklearn/utils/validation.py:724: DataConversionWarning: A column-vector y was passed when a 1d array was expected. Please change the shape of y to (n_samples, ), for example using ravel().\n",
      "  y = column_or_1d(y, warn=True)\n",
      "/Users/aritramajumdar/anaconda3/lib/python3.7/site-packages/sklearn/preprocessing/_function_transformer.py:97: FutureWarning: The default validate=True will be replaced by validate=False in 0.22.\n",
      "  \"validate=False in 0.22.\", FutureWarning)\n",
      "/Users/aritramajumdar/anaconda3/lib/python3.7/site-packages/sklearn/preprocessing/_function_transformer.py:97: FutureWarning: The default validate=True will be replaced by validate=False in 0.22.\n",
      "  \"validate=False in 0.22.\", FutureWarning)\n"
     ]
    }
   ],
   "source": [
    "#TPOT classifier with generations 10, generations can be set 5, 10, 20, 40.......\n",
    "tpot = TPOTClassifier(generations=10, population_size=20, verbosity=2)\n",
    "tpot.fit(X_resampled, Y_resampled)\n",
    "print(tpot.score(X_test, Y_test))"
   ]
  }
 ],
 "metadata": {
  "kernelspec": {
   "display_name": "Python 3",
   "language": "python",
   "name": "python3"
  },
  "language_info": {
   "codemirror_mode": {
    "name": "ipython",
    "version": 3
   },
   "file_extension": ".py",
   "mimetype": "text/x-python",
   "name": "python",
   "nbconvert_exporter": "python",
   "pygments_lexer": "ipython3",
   "version": "3.7.3"
  }
 },
 "nbformat": 4,
 "nbformat_minor": 2
}
