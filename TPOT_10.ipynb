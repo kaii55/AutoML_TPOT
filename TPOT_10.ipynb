{
 "cells": [
  {
   "cell_type": "code",
   "execution_count": 1,
   "metadata": {},
   "outputs": [
    {
     "data": {
      "application/vnd.jupyter.widget-view+json": {
       "model_id": "",
       "version_major": 2,
       "version_minor": 0
      },
      "text/plain": [
       "HBox(children=(IntProgress(value=0, description='Optimization Progress', max=220, style=ProgressStyle(descript…"
      ]
     },
     "metadata": {},
     "output_type": "display_data"
    },
    {
     "name": "stdout",
     "output_type": "stream",
     "text": [
      "Generation 1 - Current best internal CV score: 0.9614035087719298\n",
      "Generation 2 - Current best internal CV score: 0.9614035087719298\n",
      "Generation 3 - Current best internal CV score: 0.9614035087719298\n",
      "Generation 4 - Current best internal CV score: 0.9649122807017543\n",
      "Generation 5 - Current best internal CV score: 0.9649122807017543\n",
      "Generation 6 - Current best internal CV score: 0.9649122807017543\n",
      "Generation 7 - Current best internal CV score: 0.968421052631579\n",
      "Generation 8 - Current best internal CV score: 0.968421052631579\n",
      "Generation 9 - Current best internal CV score: 0.9701754385964912\n",
      "Generation 10 - Current best internal CV score: 0.9701754385964912\n",
      "\n",
      "Best pipeline: ExtraTreesClassifier(input_matrix, bootstrap=False, criterion=gini, max_features=0.35000000000000003, min_samples_leaf=1, min_samples_split=3, n_estimators=100)\n",
      "0.9035087719298246\n"
     ]
    }
   ],
   "source": [
    "import pandas as pd\n",
    "from sklearn.preprocessing import OneHotEncoder\n",
    "from sklearn.compose import ColumnTransformer\n",
    "from sklearn.pipeline import Pipeline\n",
    "from sklearn.model_selection import train_test_split\n",
    "from sklearn.metrics import accuracy_score, classification_report\n",
    "from sklearn.metrics import confusion_matrix\n",
    "from imblearn.over_sampling import SMOTE\n",
    "\n",
    "import os\n",
    "os.environ['KMP_DUPLICATE_LIB_OK']='True'\n",
    "from tpot import TPOTClassifier\n",
    "\n",
    "\n",
    "from sklearn.linear_model import LogisticRegression\n",
    "from sklearn.tree import DecisionTreeClassifier\n",
    "from sklearn.ensemble import RandomForestClassifier\n",
    "\n",
    "df = pd.read_csv('data.csv')\n",
    "list = ['Unnamed: 32','id']\n",
    "df.drop(list,axis = 1, inplace = True)\n",
    "\n",
    "#Encoding categorical data values\n",
    "from sklearn.preprocessing import LabelEncoder\n",
    "labelencoder = LabelEncoder()\n",
    "df['diagnosis'] = labelencoder.fit_transform(df['diagnosis'])\n",
    "\n",
    "from sklearn.preprocessing import StandardScaler\n",
    "ss = StandardScaler()\n",
    "df['radius_mean'] = ss.fit_transform(df['radius_mean'].values.reshape(-1,1))\n",
    "df['texture_mean'] = ss.fit_transform(df['texture_mean'].values.reshape(-1,1))\n",
    "df['perimeter_mean'] = ss.fit_transform(df['perimeter_mean'].values.reshape(-1,1))\n",
    "df['area_mean'] = ss.fit_transform(df['area_mean'].values.reshape(-1,1))\n",
    "df['perimeter_se'] = ss.fit_transform(df['perimeter_se'].values.reshape(-1,1))\n",
    "df['area_se'] = ss.fit_transform(df['area_se'].values.reshape(-1,1))\n",
    "df['radius_worst'] = ss.fit_transform(df['radius_worst'].values.reshape(-1,1))\n",
    "df['texture_worst'] = ss.fit_transform(df['texture_worst'].values.reshape(-1,1))\n",
    "df['perimeter_worst'] = ss.fit_transform(df['perimeter_worst'].values.reshape(-1,1))\n",
    "df['area_worst'] = ss.fit_transform(df['area_worst'].values.reshape(-1,1))\n",
    "\n",
    "df_1 = pd.DataFrame(df['diagnosis'])\n",
    "df.drop(['diagnosis'], axis =1, inplace = True)\n",
    "df_2 = pd.DataFrame(df[['radius_mean', 'texture_mean', 'perimeter_mean', \n",
    "                        'smoothness_mean', 'area_mean', 'concavity_mean', 'compactness_mean', \n",
    "                        'texture_se', 'area_se', 'fractal_dimension_mean']])\n",
    "\n",
    "\n",
    "from sklearn.decomposition import PCA\n",
    "pca = PCA()\n",
    "df_pca = pd.DataFrame(pca.fit_transform(df_2), columns=df_2.columns)\n",
    "\n",
    "\n",
    "\n",
    "X = df_pca\n",
    "Y = df_1['diagnosis']\n",
    "\n",
    "from sklearn.model_selection import train_test_split\n",
    "X_train, X_test, Y_train, Y_test = train_test_split(X, Y, test_size = 0.20, \n",
    "                                                    stratify = Y)\n",
    "\n",
    "\n",
    "sm = SMOTE(random_state=42, kind = 'borderline1')\n",
    "\n",
    "X_resampled, Y_resampled = sm.fit_resample(X_train, Y_train)\n",
    "\n",
    "\n",
    "\n",
    "tpot = TPOTClassifier(generations=10, population_size=20, verbosity=2)\n",
    "tpot.fit(X_resampled, Y_resampled)\n",
    "print(tpot.score(X_test, Y_test))\n",
    "tpot.export('tpot_cancer_pipelinefinal.py')\n",
    "\n"
   ]
  },
  {
   "cell_type": "code",
   "execution_count": null,
   "metadata": {},
   "outputs": [],
   "source": []
  }
 ],
 "metadata": {
  "kernelspec": {
   "display_name": "Python 3",
   "language": "python",
   "name": "python3"
  },
  "language_info": {
   "codemirror_mode": {
    "name": "ipython",
    "version": 3
   },
   "file_extension": ".py",
   "mimetype": "text/x-python",
   "name": "python",
   "nbconvert_exporter": "python",
   "pygments_lexer": "ipython3",
   "version": "3.6.8"
  }
 },
 "nbformat": 4,
 "nbformat_minor": 2
}
