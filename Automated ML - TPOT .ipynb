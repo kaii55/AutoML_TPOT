{
 "cells": [
  {
   "cell_type": "code",
   "execution_count": 1,
   "metadata": {},
   "outputs": [
    {
     "name": "stderr",
     "output_type": "stream",
     "text": [
      "Using TensorFlow backend.\n"
     ]
    },
    {
     "data": {
      "text/plain": [
       "'\\nfrom sklearn.decomposition import PCA\\npca = PCA()\\nX_train = pca.fit_transform(X_train)\\n\\n'"
      ]
     },
     "execution_count": 1,
     "metadata": {},
     "output_type": "execute_result"
    }
   ],
   "source": [
    "##Importing basic libraries\n",
    "import pandas as pd\n",
    "import numpy as np\n",
    "import matplotlib.pyplot as plt\n",
    "\n",
    "import warnings\n",
    "warnings.filterwarnings('ignore')\n",
    "\n",
    "\n",
    "#Importing other libraries\n",
    "from sklearn.preprocessing import StandardScaler\n",
    "from sklearn.preprocessing import LabelEncoder\n",
    "from sklearn.model_selection import train_test_split\n",
    "from imblearn.over_sampling import SMOTE\n",
    "import os\n",
    "os.environ['KMP_DUPLICATE_LIB_OK']='True'\n",
    "from tpot import TPOTClassifier\n",
    "\n",
    "\n",
    "\n",
    "#Reading the data\n",
    "df = pd.read_csv('data.csv')\n",
    "list = ['Unnamed: 32','id']\n",
    "df.drop(list,axis = 1, inplace = True)\n",
    "\n",
    "#Encoding categorical data values\n",
    "labelencoder = LabelEncoder()\n",
    "df['diagnosis'] = labelencoder.fit_transform(df['diagnosis'])\n",
    "\n",
    "\n",
    "ss = StandardScaler()\n",
    "\n",
    "\n",
    "df_1 = pd.DataFrame(df['diagnosis'])\n",
    "df.drop(['diagnosis'], axis =1, inplace = True)\n",
    "df_2 = pd.DataFrame(df[['radius_mean', 'texture_mean', 'perimeter_mean', \n",
    "                        'smoothness_mean', 'area_mean', 'concavity_mean', 'compactness_mean', \n",
    "                        'texture_se', 'area_se', 'fractal_dimension_mean']])\n",
    "\n",
    "\n",
    "\n",
    "X = df_2\n",
    "Y = df_1.values\n",
    "\n",
    "#Train test split\n",
    "from sklearn.model_selection import train_test_split\n",
    "X_train, X_test, Y_train, Y_test = train_test_split(X, Y, test_size = 0.20, \n",
    "                                                    stratify = Y)\n",
    "\n",
    "\n",
    "\n",
    "#Scaling and transforming the training data\n",
    "ss.fit(X_train[['radius_mean', 'texture_mean', 'perimeter_mean', \n",
    "                        'smoothness_mean', 'area_mean', 'concavity_mean', 'compactness_mean', \n",
    "                        'texture_se', 'area_se', 'fractal_dimension_mean']])\n",
    "\n",
    "X_train = ss.transform(X_train[['radius_mean', 'texture_mean', 'perimeter_mean', \n",
    "                        'smoothness_mean', 'area_mean', 'concavity_mean', 'compactness_mean', \n",
    "                        'texture_se', 'area_se', 'fractal_dimension_mean']])\n",
    "\n",
    "\n",
    "#Transforming the data\n",
    "X_test = ss.transform(X_test[['radius_mean', 'texture_mean', 'perimeter_mean', \n",
    "                        'smoothness_mean', 'area_mean', 'concavity_mean', 'compactness_mean', \n",
    "                        'texture_se', 'area_se', 'fractal_dimension_mean']])\n",
    "\n",
    "\n",
    "\n",
    "\n",
    "#Sampling the data\n",
    "\n",
    "sm = SMOTE(random_state=42, kind = 'borderline1')\n",
    "X_resampled, Y_resampled = sm.fit_resample(X_train, Y_train)\n",
    "\n",
    "\n",
    "\n",
    "\n",
    "#If needed can be performed\n",
    "\n",
    "\"\"\"\n",
    "from sklearn.decomposition import PCA\n",
    "pca = PCA()\n",
    "X_train = pca.fit_transform(X_train)\n",
    "\n",
    "\"\"\""
   ]
  },
  {
   "cell_type": "code",
   "execution_count": 2,
   "metadata": {},
   "outputs": [
    {
     "data": {
      "application/vnd.jupyter.widget-view+json": {
       "model_id": "",
       "version_major": 2,
       "version_minor": 0
      },
      "text/plain": [
       "HBox(children=(IntProgress(value=0, description='Optimization Progress', max=220, style=ProgressStyle(descript…"
      ]
     },
     "metadata": {},
     "output_type": "display_data"
    },
    {
     "name": "stdout",
     "output_type": "stream",
     "text": [
      "Generation 1 - Current best internal CV score: 0.9526315789473685\n",
      "Generation 2 - Current best internal CV score: 0.9526315789473685\n",
      "Generation 3 - Current best internal CV score: 0.956140350877193\n",
      "Generation 4 - Current best internal CV score: 0.956140350877193\n",
      "Generation 5 - Current best internal CV score: 0.9578947368421054\n",
      "Generation 6 - Current best internal CV score: 0.9736842105263157\n",
      "Generation 7 - Current best internal CV score: 0.9736842105263157\n",
      "Generation 8 - Current best internal CV score: 0.9736842105263157\n",
      "Generation 9 - Current best internal CV score: 0.9736842105263157\n",
      "Generation 10 - Current best internal CV score: 0.9736842105263157\n",
      "\n",
      "Best pipeline: RandomForestClassifier(CombineDFs(input_matrix, input_matrix), bootstrap=False, criterion=entropy, max_features=0.15000000000000002, min_samples_leaf=1, min_samples_split=3, n_estimators=100)\n",
      "0.9122807017543859\n"
     ]
    }
   ],
   "source": [
    "#TPOT classifier with generations 10, generations can be set 5, 10, 20, 40.......\n",
    "tpot = TPOTClassifier(generations=10, population_size=20, verbosity=2)\n",
    "tpot.fit(X_resampled, Y_resampled)\n",
    "print(tpot.score(X_test, Y_test))"
   ]
  },
  {
   "cell_type": "code",
   "execution_count": null,
   "metadata": {},
   "outputs": [],
   "source": []
  }
 ],
 "metadata": {
  "kernelspec": {
   "display_name": "Python 3",
   "language": "python",
   "name": "python3"
  },
  "language_info": {
   "codemirror_mode": {
    "name": "ipython",
    "version": 3
   },
   "file_extension": ".py",
   "mimetype": "text/x-python",
   "name": "python",
   "nbconvert_exporter": "python",
   "pygments_lexer": "ipython3",
   "version": "3.7.3"
  }
 },
 "nbformat": 4,
 "nbformat_minor": 2
}
